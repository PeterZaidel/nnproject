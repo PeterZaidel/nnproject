{
 "cells": [
  {
   "cell_type": "code",
   "execution_count": 2,
   "metadata": {},
   "outputs": [],
   "source": [
    "import numpy as np\n",
    "import matplotlib.pyplot as plt\n",
    "from torch import nn\n",
    "import torch\n",
    "from torch.autograd import Variable\n",
    "import torchvision.models as models\n",
    "import torchvision.transforms as transforms\n",
    "from torch.utils.data import Dataset, DataLoader\n",
    "\n",
    "import random\n",
    "from PIL import Image\n",
    "import copy\n",
    "import pickle\n",
    "import sys\n",
    "\n",
    "from pycocotools.coco import COCO\n",
    "import skimage.io\n",
    "import io\n",
    "import pylab\n",
    "pylab.rcParams['figure.figsize'] = (8.0, 10.0)\n",
    "\n",
    "from torch.optim import lr_scheduler\n",
    "\n",
    "from autocorrect import spell\n",
    "import nltk\n",
    "from IPython.display import display\n",
    "import os\n",
    "import string\n",
    "\n",
    "from tqdm import tqdm"
   ]
  },
  {
   "cell_type": "code",
   "execution_count": 3,
   "metadata": {},
   "outputs": [],
   "source": [
    "DEF_END = '<END>'\n",
    "DEF_START = '<START>'\n",
    "\n",
    "dataDir='../../coco_dataset/'\n",
    "imagesDirTrain = '{}train2017'.format(dataDir)\n",
    "imagesDirVal = '{}val2017'.format(dataDir)\n",
    "\n",
    "annTrainFile = '{}annotations/captions_train2017.json'.format(dataDir)\n",
    "annValFile = '{}annotations/captions_val2017.json'.format(dataDir)\n",
    "\n",
    "transform = transforms.Compose([transforms.Resize((224, 224)), \n",
    "                                             transforms.ToTensor(), \n",
    "                                             transforms.Normalize(\n",
    "                                                 mean=[0.485, 0.456, 0.406],\n",
    "                                                 std=[0.229, 0.224, 0.225])])\n",
    "\n",
    "random.seed(1234)\n"
   ]
  },
  {
   "cell_type": "code",
   "execution_count": 4,
   "metadata": {},
   "outputs": [],
   "source": [
    "def numpy2image(img_numpy):\n",
    "    if img_numpy.dtype == np.dtype('float64'): \n",
    "        img_numpy = (img_numpy*255).astype('uint8')\n",
    "    return Image.fromarray(img_numpy)\n",
    "\n",
    "\n",
    "class MSCOCODataset(Dataset):\n",
    "    \"\"\"MSCOCO Dataset\"\"\"\n",
    "\n",
    "    def __init__(self, annFile, imagesDir, transform=None, pretrained=False):\n",
    "        self.coco = COCO(annFile)\n",
    "        self.imagesDir = imagesDir\n",
    "        self.imageids = self.coco.getImgIds()\n",
    "        self.transform = transform\n",
    "        self.pretrained = pretrained\n",
    "        self.images = None\n",
    "        self.imid = None\n",
    "\n",
    "    def __len__(self):\n",
    "        return len(self.coco.dataset['images'])\n",
    "\n",
    "    def __getitem__(self, idx):\n",
    "        \n",
    "        if self.pretrained:\n",
    "            return {'image': self.images[idx], 'id': self.imid[idx]}\n",
    "        \n",
    "        imid = self.imageids[idx]\n",
    "        img_data = self.coco.loadImgs([imid])[0]\n",
    "        \n",
    "        img_file_name = '{}/{}'.format(self.imagesDir, img_data['file_name'])\n",
    "        image = skimage.io.imread(img_file_name)\n",
    "        \n",
    "        if len(image.shape) != 3:\n",
    "            return self.__getitem__(0)\n",
    "        \n",
    "        image = numpy2image(image)\n",
    "        if self.transform is not None:\n",
    "            image = self.transform(image)\n",
    "            \n",
    "        sample = {'image': image, 'id': imid}\n",
    "            \n",
    "        return sample\n",
    "    \n",
    "    def load(self, f_image, f_image_ids):\n",
    "        self.pretrained = True\n",
    "        self.images = torch.load(f_image)\n",
    "        self.imid = torch.load(f_image_ids)"
   ]
  },
  {
   "cell_type": "code",
   "execution_count": 5,
   "metadata": {},
   "outputs": [],
   "source": [
    "def load_vectors(fname):\n",
    "    fin = io.open(fname, 'r', encoding='utf-8', newline='\\n', errors='ignore')\n",
    "    n, d = map(int, fin.readline().split())\n",
    "    data = {}\n",
    "    for line in tqdm(fin):\n",
    "        tokens = line.rstrip().split(' ')\n",
    "        data[tokens[0]] = map(float, tokens[1:])\n",
    "    return data\n",
    "\n",
    "def tokenize(s):\n",
    "    s = s.lower()\n",
    "    for t in string.punctuation: \n",
    "        s = s.replace(t, ' ')\n",
    "    return s"
   ]
  },
  {
   "cell_type": "code",
   "execution_count": 6,
   "metadata": {},
   "outputs": [],
   "source": [
    "vec = load_vectors('./crawl-300d-2M.vec')"
   ]
  },
  {
   "cell_type": "code",
   "execution_count": 7,
   "metadata": {},
   "outputs": [
    {
     "name": "stdout",
     "output_type": "stream",
     "text": [
      "loading annotations into memory...\n",
      "Done (t=2.85s)\n",
      "creating index...\n",
      "index created!\n",
      "loading annotations into memory...\n",
      "Done (t=0.18s)\n",
      "creating index...\n",
      "index created!\n"
     ]
    }
   ],
   "source": [
    "coco_train = COCO(annTrainFile)\n",
    "coco_test = COCO(annValFile)"
   ]
  },
  {
   "cell_type": "code",
   "execution_count": 8,
   "metadata": {},
   "outputs": [
    {
     "data": {
      "text/plain": [
       "\"\\npool = set()\\n\\nids = coco_train.getAnnIds()\\nwrong_ann_ids_train = set()\\n\\nfor idx in ids:\\n    words = coco_train.loadAnns(idx)[0]['caption']\\n    words = tokenize(words).split()\\n    for word in words:\\n        pool.add(word)\\n        if vec.get(word) is None:\\n            wrong_ann_ids_train.add(idx)\\n    if len(words) > 20:\\n        wrong_ann_ids_train.add(idx)\\n\\nids = coco_test.getAnnIds()\\nwrong_ann_ids_test = set()        \\n        \\nfor idx in ids:\\n    words = coco_test.loadAnns(idx)[0]['caption']\\n    words = tokenize(words).split()\\n    for word in words:\\n        pool.add(word)\\n        if vec.get(word) is None:\\n            wrong_ann_ids_test.add(idx)\\n    if len(words) > 20:\\n        wrong_ann_ids_test.add(idx)\\n\""
      ]
     },
     "execution_count": 8,
     "metadata": {},
     "output_type": "execute_result"
    }
   ],
   "source": [
    "pool = set()\n",
    "\n",
    "ids = coco_train.getAnnIds()\n",
    "wrong_ann_ids_train = set()\n",
    "\n",
    "for idx in ids:\n",
    "    words = coco_train.loadAnns(idx)[0]['caption']\n",
    "    words = tokenize(words).split()\n",
    "    for word in words:\n",
    "        pool.add(word)\n",
    "        if vec.get(word) is None:\n",
    "            wrong_ann_ids_train.add(idx)\n",
    "    if len(words) > 20:\n",
    "        wrong_ann_ids_train.add(idx)\n",
    "\n",
    "ids = coco_test.getAnnIds()\n",
    "wrong_ann_ids_test = set()        \n",
    "        \n",
    "for idx in ids:\n",
    "    words = coco_test.loadAnns(idx)[0]['caption']\n",
    "    words = tokenize(words).split()\n",
    "    for word in words:\n",
    "        pool.add(word)\n",
    "        if vec.get(word) is None:\n",
    "            wrong_ann_ids_test.add(idx)\n",
    "    if len(words) > 20:\n",
    "        wrong_ann_ids_test.add(idx)"
   ]
  },
  {
   "cell_type": "code",
   "execution_count": 9,
   "metadata": {},
   "outputs": [
    {
     "data": {
      "text/plain": [
       "'\\nwrong = []\\nword_emb = {}\\nfor word in pool:\\n    if vec.get(word) is None:\\n        wrong.append(word)\\n    else:\\n        word_emb[word] = vec[word]\\n\\nword_emb[DEF_START] = [-5.1 for _ in range(300)]\\nword_emb[DEF_END] = [5.1 for _ in range(300)]\\n'"
      ]
     },
     "execution_count": 9,
     "metadata": {},
     "output_type": "execute_result"
    }
   ],
   "source": [
    "wrong = []\n",
    "word_emb = {}\n",
    "for word in pool:\n",
    "    if vec.get(word) is None:\n",
    "        wrong.append(word)\n",
    "    else:\n",
    "        word_emb[word] = vec[word]\n",
    "\n",
    "word_emb[DEF_START] = [-5.1 for _ in range(300)]\n",
    "word_emb[DEF_END] = [5.1 for _ in range(300)]"
   ]
  },
  {
   "cell_type": "code",
   "execution_count": 10,
   "metadata": {},
   "outputs": [],
   "source": [
    "#pickle.dump(word_emb, open('word_emb.p', 'w'))\n",
    "#pickle.dump(wrong_ann_ids_test, open('wrong_ann_ids_test.p', 'w'))\n",
    "#pickle.dump(wrong_ann_ids_train, open('wrong_ann_ids_train.p', 'w'))\n",
    "\n",
    "word_emb = pickle.load(open('word_emb.p', 'r'))\n",
    "wrong_ann_ids_train = pickle.load(open('wrong_ann_ids_train.p', 'r'))\n",
    "wrong_ann_ids_test = pickle.load(open('wrong_ann_ids_test.p', 'r'))"
   ]
  },
  {
   "cell_type": "code",
   "execution_count": 11,
   "metadata": {},
   "outputs": [],
   "source": [
    "words2ids = {}\n",
    "ids2words = {}\n",
    "for i, key in enumerate(word_emb.keys()):\n",
    "    words2ids[key] = i\n",
    "    ids2words[i] = key"
   ]
  },
  {
   "cell_type": "code",
   "execution_count": 12,
   "metadata": {},
   "outputs": [],
   "source": [
    "dtype = torch.cuda.FloatTensor\n",
    "dtype_2 = torch.cuda.LongTensor\n",
    "\n",
    "class Caption(nn.Module):\n",
    "    def __init__(self, input_size, hidden_size, output_size, word_emb):\n",
    "        super(Caption, self).__init__()\n",
    "        self.input_size = input_size\n",
    "        self.hidden_size = hidden_size\n",
    "        self.output_size = output_size\n",
    "        \n",
    "        #self.dec = nn.Linear(self.input_size, self.emb_size)\n",
    "        #self.lstm = nn.LSTMCell(self.emb_size + 300, self.hidden_size)\n",
    "        self.lstm = nn.LSTMCell(self.input_size, self.hidden_size)\n",
    "        self.fc = nn.Sequential(nn.Linear(self.hidden_size, self.output_size), nn.LogSoftmax(1))\n",
    "        \n",
    "        self.word_emb = word_emb\n",
    "        \n",
    "    def forward(self, X, y, force=True, max_iter=20):\n",
    "        \n",
    "        #X = self.dec(X)\n",
    "        \n",
    "        C = Variable(torch.zeros(X.size(0), self.hidden_size).type(dtype), requires_grad=False)\n",
    "        hidden = Variable(torch.zeros(X.size(0), self.hidden_size).type(dtype), requires_grad=False)\n",
    "        output = []\n",
    "        \n",
    "        prev_words = [torch.Tensor(self.word_emb[DEF_START]).view(1, -1) for _ in range(X.size(0))]\n",
    "        prev_words = Variable(torch.cat(prev_words, 0).type(dtype))\n",
    "        \n",
    "        for i in range(max_iter):\n",
    "            input = torch.cat((X, prev_words), 1)\n",
    "                \n",
    "            hidden, C = self.lstm.forward(input, (hidden, C))\n",
    "            out = self.fc.forward(hidden)\n",
    "                    \n",
    "            output.append(out)\n",
    "            \n",
    "            if force:\n",
    "                ids = np.argmax(out.data, 1).numpy()\n",
    "                prev_words = [torch.Tensor(self.word_emb[ids2words[t]]).view(1, -1) for t in ids]\n",
    "                prev_words = Variable(torch.cat(prev_words, 0).type(dtype), requires_grad=False)\n",
    "            else:\n",
    "                prev_words = [torch.Tensor(self.word_emb[ids2words[int(t)]]).view(1, -1) for t in y[:, i]]\n",
    "                prev_words = Variable(torch.cat(prev_words, 0).type(dtype), requires_grad=False)\n",
    "                \n",
    "        return output\n",
    "    \n",
    "    def predict(self, X, max_iter):\n",
    "        \n",
    "        #X = self.dec(X)\n",
    "        \n",
    "        C = Variable(torch.zeros(X.size(0), self.hidden_size).type(dtype), requires_grad=False)\n",
    "        hidden = Variable(torch.zeros(X.size(0), self.hidden_size).type(dtype), requires_grad=False)\n",
    "        output = [[] for _ in range(X.size(0))]\n",
    "        \n",
    "        prev_words = [torch.Tensor(self.word_emb[DEF_START]).view(1, -1) for _ in range(X.size(0))]\n",
    "        prev_words = Variable(torch.cat(prev_words, 0).type(dtype))\n",
    "        \n",
    "        for i in range(max_iter):\n",
    "            input = torch.cat((X, prev_words), 1)\n",
    "            \n",
    "            hidden, C = self.lstm.forward(input, (hidden, C))\n",
    "            out = self.fc.forward(hidden)\n",
    "            \n",
    "            ids = np.argmax(out.data, 1).numpy()\n",
    "            for t in range(X.size(0)):\n",
    "                output[t].append(ids2words[ids[t]])\n",
    "            \n",
    "            prev_words = [torch.Tensor(self.word_emb[ids2words[t]]).view(1, -1) for t in ids]\n",
    "            prev_words = Variable(torch.cat(prev_words, 0).type(dtype))\n",
    "            \n",
    "        return output"
   ]
  },
  {
   "cell_type": "code",
   "execution_count": 13,
   "metadata": {},
   "outputs": [],
   "source": [
    "ids2sen_train = {}\n",
    "ids = coco_train.getImgIds()\n",
    "for idx in ids:\n",
    "    anns_ids = coco_train.getAnnIds(int(idx))\n",
    "    ann = None\n",
    "    for ann_id in anns_ids:\n",
    "        if ann_id in wrong_ann_ids_train:\n",
    "            continue\n",
    "        ann = coco_train.loadAnns(ann_id)[0]['caption']\n",
    "        ann = tokenize(ann).split()\n",
    "        break\n",
    "    p = []\n",
    "    for word in ann:\n",
    "        p.append(words2ids[word])\n",
    "    p += [words2ids[DEF_END] for _ in range(20 - len(p))]\n",
    "    p = torch.Tensor(p).view(1, -1)\n",
    "    ids2sen_train[idx] = p\n",
    "\n",
    "ids2sen_test = {}\n",
    "ids = coco_test.getImgIds()\n",
    "for idx in ids:\n",
    "    anns_ids = coco_test.getAnnIds(int(idx))\n",
    "    ann = None\n",
    "    for ann_id in anns_ids:\n",
    "        if ann_id in wrong_ann_ids_test:\n",
    "            continue\n",
    "        ann = coco_test.loadAnns(ann_id)[0]['caption']\n",
    "        ann = tokenize(ann).split()\n",
    "        break\n",
    "    p = []\n",
    "    for word in ann:\n",
    "        p.append(words2ids[word])\n",
    "    p += [words2ids[DEF_END] for _ in range(20 - len(p))]\n",
    "    p = torch.Tensor(p).view(1, -1)\n",
    "    ids2sen_test[idx] = p"
   ]
  },
  {
   "cell_type": "code",
   "execution_count": 14,
   "metadata": {},
   "outputs": [],
   "source": [
    "def ids2sen(ids, train=True):\n",
    "    ids_dict = None\n",
    "    if train:\n",
    "        ids_dict = ids2sen_train\n",
    "    else:\n",
    "        ids_dict = ids2sen_test\n",
    "    \n",
    "    res = []\n",
    "    for idx in ids:\n",
    "        res.append(ids_dict[int(idx)])\n",
    "    res = torch.cat(res, 0)\n",
    "    return res"
   ]
  },
  {
   "cell_type": "code",
   "execution_count": 15,
   "metadata": {},
   "outputs": [],
   "source": [
    "def train(net, loss, optim, learning_rate, epochs, train_loader, test_loader):\n",
    "    opt = optim(net.parameters())\n",
    "    train_loss = []\n",
    "    test_loss = []\n",
    "    try:\n",
    "        for it in range(epochs):\n",
    "            losses = []\n",
    "            for sample in tqdm(train_loader):\n",
    "                X = sample['image']\n",
    "                X = Variable(X.type(dtype))\n",
    "                ids = sample['id']\n",
    "                y = Variable(ids2sen(ids, True).type(dtype_2), requires_grad=False) \n",
    "\n",
    "                opt.zero_grad()\n",
    "                #state = bool(random.randint(0, 1))\n",
    "                state = False\n",
    "                prediction = net.forward(X, y, state)\n",
    "\n",
    "                loss_batch = Variable(torch.Tensor([0]).type(dtype))\n",
    "                for i, out in enumerate(prediction):\n",
    "                    loss_batch += loss(out, y[:, i])\n",
    "\n",
    "                losses.append(int(loss_batch.data))\n",
    "                loss_batch.backward()\n",
    "\n",
    "                opt.step()\n",
    "            train_loss.append(np.mean(losses))\n",
    "\n",
    "            losses = []\n",
    "            for sample in tqdm(test_loader):\n",
    "            \n",
    "                X = sample['image']\n",
    "                X = Variable(X.type(dtype))\n",
    "                ids = sample['id']\n",
    "                y = Variable(ids2sen(ids, False).type(dtype_2), requires_grad=False) \n",
    "                \n",
    "                state = True\n",
    "                prediction = net.forward(X, y, state)\n",
    "\n",
    "                loss_batch = Variable(torch.Tensor([0]).type(dtype))\n",
    "                for i, out in enumerate(prediction):\n",
    "                    loss_batch += loss(out, y[:, i])\n",
    "\n",
    "                losses.append(int(loss_batch.data))\n",
    "            test_loss.append(np.mean(losses))\n",
    "            sys.stdout.write('\\rEposh {}... NLL (Train/Test)   {}/{}'.format(it, train_loss[-1], test_loss[-1]))\n",
    "    except KeyboardInterrupt:\n",
    "        return"
   ]
  },
  {
   "cell_type": "code",
   "execution_count": 16,
   "metadata": {},
   "outputs": [
    {
     "name": "stdout",
     "output_type": "stream",
     "text": [
      "loading annotations into memory...\n",
      "Done (t=3.26s)\n",
      "creating index...\n",
      "index created!\n",
      "loading annotations into memory...\n",
      "Done (t=0.20s)\n",
      "creating index...\n",
      "index created!\n"
     ]
    }
   ],
   "source": [
    "train_dataset = MSCOCODataset(annTrainFile, imagesDirTrain, transform)\n",
    "test_dataset = MSCOCODataset(annValFile, imagesDirVal, transform)\n",
    "\n",
    "train_dataset.load('./train_image_resnet.pth', './train_image_ids_resnet.pth')\n",
    "test_dataset.load('./test_image_resnet.pth', './test_image_ids_resnet.pth')\n",
    "\n",
    "train_dataloader = DataLoader(train_dataset, batch_size=32)\n",
    "test_dataloader = DataLoader(test_dataset, batch_size=16)\n",
    "\n",
    "loss = nn.NLLLoss()\n",
    "optim = torch.optim.Adam"
   ]
  },
  {
   "cell_type": "code",
   "execution_count": 16,
   "metadata": {},
   "outputs": [],
   "source": [
    "torch.cuda.set_device(3)\n",
    "net = Caption(2048 + 300,  512, len(word_emb), word_emb).cuda()"
   ]
  },
  {
   "cell_type": "code",
   "execution_count": 17,
   "metadata": {
    "scrolled": true
   },
   "outputs": [
    {
     "name": "stderr",
     "output_type": "stream",
     "text": [
      "100%|██████████| 3697/3697 [04:01<00:00, 15.32it/s]\n",
      "100%|██████████| 313/313 [00:10<00:00, 31.06it/s]\n",
      "  0%|          | 2/3697 [00:00<03:22, 18.23it/s]"
     ]
    },
    {
     "name": "stdout",
     "output_type": "stream",
     "text": [
      "\r",
      "Eposh 0... NLL (Train/Test)   41.6984041114/73.3003194888"
     ]
    },
    {
     "name": "stderr",
     "output_type": "stream",
     "text": [
      "100%|██████████| 3697/3697 [04:02<00:00, 15.27it/s]\n",
      "100%|██████████| 313/313 [00:10<00:00, 28.81it/s]"
     ]
    },
    {
     "name": "stdout",
     "output_type": "stream",
     "text": [
      "\r",
      "Eposh 1... NLL (Train/Test)   33.2439816067/79.8466453674"
     ]
    },
    {
     "name": "stderr",
     "output_type": "stream",
     "text": [
      "\n"
     ]
    }
   ],
   "source": [
    "train(net, loss, optim, 0.001, 2, train_dataloader, test_dataloader)"
   ]
  },
  {
   "cell_type": "code",
   "execution_count": 72,
   "metadata": {},
   "outputs": [],
   "source": [
    "torch.save(net.state_dict(), 'model.pth')"
   ]
  },
  {
   "cell_type": "code",
   "execution_count": null,
   "metadata": {},
   "outputs": [],
   "source": []
  },
  {
   "cell_type": "code",
   "execution_count": null,
   "metadata": {},
   "outputs": [],
   "source": []
  },
  {
   "cell_type": "code",
   "execution_count": null,
   "metadata": {},
   "outputs": [],
   "source": []
  },
  {
   "cell_type": "code",
   "execution_count": null,
   "metadata": {},
   "outputs": [],
   "source": []
  },
  {
   "cell_type": "code",
   "execution_count": 17,
   "metadata": {},
   "outputs": [],
   "source": [
    "torch.cuda.set_device(0)\n",
    "net = Caption(2048 + 300,  512, len(word_emb), word_emb).cuda()\n",
    "net.load_state_dict(torch.load('./model_resnet.pth'))"
   ]
  },
  {
   "cell_type": "code",
   "execution_count": 18,
   "metadata": {},
   "outputs": [
    {
     "name": "stderr",
     "output_type": "stream",
     "text": [
      "\r",
      "0it [00:00, ?it/s]"
     ]
    },
    {
     "name": "stdout",
     "output_type": "stream",
     "text": [
      "[u'a', u'truck', u'driving', u'down', u'a', u'street', u'next', u'to', u'a', u'parking', u'lot', '<END>', '<END>', '<END>', '<END>', '<END>', '<END>', '<END>', '<END>', '<END>']\n",
      "[u'a', u'bathroom', u'with', u'a', u'toilet', u'sink', u'and', u'a', u'sink', '<END>', '<END>', '<END>', '<END>', '<END>', '<END>', '<END>', '<END>', '<END>', '<END>', '<END>']\n",
      "[u'a', u'group', u'of', u'people', u'playing', u'a', u'game', u'of', u'soccer', '<END>', '<END>', '<END>', '<END>', '<END>', '<END>', '<END>', '<END>', '<END>', '<END>', '<END>']\n",
      "[u'a', u'cat', u'is', u'standing', u'on', u'a', u'skateboard', u'on', u'a', u'skateboard', '<END>', '<END>', '<END>', '<END>', '<END>', '<END>', '<END>', '<END>', '<END>', '<END>']\n",
      "[u'a', u'laptop', u'computer', u'sitting', u'on', u'a', u'desk', u'with', u'a', u'monitor', '<END>', '<END>', '<END>', '<END>', '<END>', '<END>', '<END>', '<END>', '<END>', '<END>']\n",
      "[u'a', u'gps', u'sitting', u'on', u'top', u'of', u'a', u'window', u'sill', '<END>', '<END>', '<END>', '<END>', '<END>', '<END>', '<END>', '<END>', '<END>', '<END>', '<END>']\n",
      "[u'a', u'wooden', u'bench', u'sitting', u'on', u'top', u'of', u'a', u'wooden', u'bench', '<END>', '<END>', '<END>', '<END>', '<END>', '<END>', '<END>', '<END>', '<END>', '<END>']\n",
      "[u'a', u'couple', u'of', u'elephants', u'standing', u'around', u'a', u'circus', '<END>', '<END>', '<END>', '<END>', '<END>', '<END>', '<END>', '<END>', '<END>', '<END>', '<END>', '<END>']\n",
      "[u'a', u'crowd', u'of', u'baseball', u'players', u'standing', u'on', u'a', u'field', '<END>', '<END>', '<END>', '<END>', '<END>', '<END>', '<END>', '<END>', '<END>', '<END>', '<END>']\n",
      "[u'a', u'group', u'of', u'people', u'sitting', u'around', u'a', u'table', u'with', u'food', '<END>', '<END>', '<END>', '<END>', '<END>', '<END>', '<END>', '<END>', '<END>', '<END>']\n",
      "[u'a', u'series', u'of', u'photos', u'of', u'a', u'bathroom', u'with', u'a', u'clock', '<END>', '<END>', '<END>', '<END>', '<END>', '<END>', '<END>', '<END>', '<END>', '<END>']\n",
      "[u'a', u'bird', u'soaring', u'up', u'to', u'a', u'bird', u'in', u'the', u'sky', '<END>', '<END>', '<END>', '<END>', '<END>', '<END>', '<END>', '<END>', '<END>', '<END>']\n",
      "[u'a', u'bus', u'driving', u'down', u'a', u'street', u'next', u'to', u'a', u'bus', '<END>', '<END>', '<END>', '<END>', '<END>', '<END>', '<END>', '<END>', '<END>', '<END>']\n",
      "[u'a', u'man', u'in', u'a', u'suit', u'and', u'tie', u'a', u'white', u'shirt', '<END>', '<END>', '<END>', '<END>', '<END>', '<END>', '<END>', '<END>', '<END>', '<END>']\n",
      "[u'a', u'man', u'holding', u'a', u'feather', u'up', u'in', u'a', u'tree', '<END>', '<END>', '<END>', '<END>', '<END>', '<END>', '<END>', '<END>', '<END>', '<END>', '<END>']\n",
      "[u'a', u'man', u'is', u'playing', u'with', u'a', u'cell', u'phone', '<END>', '<END>', '<END>', '<END>', '<END>', '<END>', '<END>', '<END>', '<END>', '<END>', '<END>', '<END>']\n"
     ]
    },
    {
     "name": "stderr",
     "output_type": "stream",
     "text": [
      "Exception KeyError: KeyError(<weakref at 0x7efdbd505310; to 'tqdm' at 0x7efe64c8a3d0>,) in <bound method tqdm.__del__ of 0it [00:00, ?it/s]> ignored\n"
     ]
    }
   ],
   "source": [
    "max_iter = 20\n",
    "idx = None\n",
    "for i, sample in tqdm(enumerate(test_dataloader)):\n",
    "    if i != 10:\n",
    "        continue\n",
    "    X = sample['image']\n",
    "    X = Variable(X.type(dtype))\n",
    "    ids = sample['id']\n",
    "    idx = ids\n",
    "    y = Variable(ids2sen(ids, 0).type(dtype_2), requires_grad=False) \n",
    "    prediction = net.predict(X, 20)\n",
    "    for l in prediction:\n",
    "        print l\n",
    "    break"
   ]
  },
  {
   "cell_type": "code",
   "execution_count": 25,
   "metadata": {},
   "outputs": [
    {
     "data": {
      "text/plain": [
       "<matplotlib.image.AxesImage at 0x7efd50d9d4d0>"
      ]
     },
     "execution_count": 25,
     "metadata": {},
     "output_type": "execute_result"
    },
    {
     "data": {
      "image/png": "[encoded data removed]",
      "text/plain": [
       "<matplotlib.figure.Figure at 0x7efdba491f90>"
      ]
     },
     "metadata": {},
     "output_type": "display_data"
    }
   ],
   "source": [
    "img_data = coco_test.loadImgs([int(idx[-9])])[0]\n",
    "img_file_name = '{}/{}'.format(imagesDirVal, img_data['file_name'])\n",
    "image = skimage.io.imread(img_file_name)\n",
    "plt.imshow(image)"
   ]
  },
  {
   "cell_type": "code",
   "execution_count": null,
   "metadata": {},
   "outputs": [],
   "source": []
  },
  {
   "cell_type": "code",
   "execution_count": null,
   "metadata": {},
   "outputs": [],
   "source": []
  }
 ],
 "metadata": {
  "kernelspec": {
   "display_name": "Python 2",
   "language": "python",
   "name": "python2"
  },
  "language_info": {
   "codemirror_mode": {
    "name": "ipython",
    "version": 2
   },
   "file_extension": ".py",
   "mimetype": "text/x-python",
   "name": "python",
   "nbconvert_exporter": "python",
   "pygments_lexer": "ipython2",
   "version": "2.7.14"
  }
 },
 "nbformat": 4,
 "nbformat_minor": 2
}
